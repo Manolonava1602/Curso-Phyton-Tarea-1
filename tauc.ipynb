{
  "nbformat": 4,
  "nbformat_minor": 0,
  "metadata": {
    "colab": {
      "name": "Untitled",
      "provenance": [],
      "authorship_tag": "ABX9TyMiNU60yEvMoaXnESPav6R5",
      "include_colab_link": true
    },
    "kernelspec": {
      "name": "python3",
      "display_name": "Python 3"
    },
    "language_info": {
      "name": "python"
    }
  },
  "cells": [
    {
      "cell_type": "markdown",
      "metadata": {
        "id": "view-in-github",
        "colab_type": "text"
      },
      "source": [
        "<a href=\"https://colab.research.google.com/github/Manolonava1602/Curso-Phyton-Tarea-1/blob/main/tauc.ipynb\" target=\"_parent\"><img src=\"https://colab.research.google.com/assets/colab-badge.svg\" alt=\"Open In Colab\"/></a>"
      ]
    },
    {
      "cell_type": "code",
      "metadata": {
        "id": "8UzakeCIAMiJ"
      },
      "source": [
        "# Impotamos las lbrerias necesarias\n",
        "import numpy as np\n",
        "import math as mt\n",
        "import matplotlib.pyplot as plt\n",
        "import pandas as pd\n",
        "import requests\n",
        "import os"
      ],
      "execution_count": 36,
      "outputs": []
    },
    {
      "cell_type": "code",
      "metadata": {
        "id": "AA6_1Mj_AOlA"
      },
      "source": [
        "#tauc plot\n",
        "path = f'/content/Tauc M2-47.csv'\n",
        "tabla1 = pd.read_csv(path, header=0)\n",
        "path2 = f'/content/Tauc M2-42.csv'\n",
        "tabla2 = pd.read_csv(path2, header=0)\n",
        "path3 = f'/content/Tauc M2-22.csv'\n",
        "tabla3 = pd.read_csv(path3, header=0)"
      ],
      "execution_count": 67,
      "outputs": []
    },
    {
      "cell_type": "code",
      "metadata": {
        "colab": {
          "base_uri": "https://localhost:8080/",
          "height": 423
        },
        "id": "ERcYRFccAZfD",
        "outputId": "1a4a6eee-6173-4941-d9a3-fa190f527b29"
      },
      "source": [
        "tabla1"
      ],
      "execution_count": 68,
      "outputs": [
        {
          "output_type": "execute_result",
          "data": {
            "text/html": [
              "<div>\n",
              "<style scoped>\n",
              "    .dataframe tbody tr th:only-of-type {\n",
              "        vertical-align: middle;\n",
              "    }\n",
              "\n",
              "    .dataframe tbody tr th {\n",
              "        vertical-align: top;\n",
              "    }\n",
              "\n",
              "    .dataframe thead th {\n",
              "        text-align: right;\n",
              "    }\n",
              "</style>\n",
              "<table border=\"1\" class=\"dataframe\">\n",
              "  <thead>\n",
              "    <tr style=\"text-align: right;\">\n",
              "      <th></th>\n",
              "      <th>Wavelength (nm)</th>\n",
              "      <th>Abs</th>\n",
              "      <th>Energía</th>\n",
              "      <th>(ahv)</th>\n",
              "    </tr>\n",
              "  </thead>\n",
              "  <tbody>\n",
              "    <tr>\n",
              "      <th>0</th>\n",
              "      <td>800</td>\n",
              "      <td>0.064</td>\n",
              "      <td>1.550000</td>\n",
              "      <td>0.052193</td>\n",
              "    </tr>\n",
              "    <tr>\n",
              "      <th>1</th>\n",
              "      <td>799</td>\n",
              "      <td>0.064</td>\n",
              "      <td>1.551940</td>\n",
              "      <td>0.052324</td>\n",
              "    </tr>\n",
              "    <tr>\n",
              "      <th>2</th>\n",
              "      <td>798</td>\n",
              "      <td>0.064</td>\n",
              "      <td>1.553885</td>\n",
              "      <td>0.052455</td>\n",
              "    </tr>\n",
              "    <tr>\n",
              "      <th>3</th>\n",
              "      <td>797</td>\n",
              "      <td>0.064</td>\n",
              "      <td>1.555834</td>\n",
              "      <td>0.052587</td>\n",
              "    </tr>\n",
              "    <tr>\n",
              "      <th>4</th>\n",
              "      <td>796</td>\n",
              "      <td>0.064</td>\n",
              "      <td>1.557789</td>\n",
              "      <td>0.052719</td>\n",
              "    </tr>\n",
              "    <tr>\n",
              "      <th>...</th>\n",
              "      <td>...</td>\n",
              "      <td>...</td>\n",
              "      <td>...</td>\n",
              "      <td>...</td>\n",
              "    </tr>\n",
              "    <tr>\n",
              "      <th>596</th>\n",
              "      <td>204</td>\n",
              "      <td>3.759</td>\n",
              "      <td>6.078431</td>\n",
              "      <td>2768.952864</td>\n",
              "    </tr>\n",
              "    <tr>\n",
              "      <th>597</th>\n",
              "      <td>203</td>\n",
              "      <td>3.764</td>\n",
              "      <td>6.108374</td>\n",
              "      <td>2803.744276</td>\n",
              "    </tr>\n",
              "    <tr>\n",
              "      <th>598</th>\n",
              "      <td>202</td>\n",
              "      <td>3.772</td>\n",
              "      <td>6.138614</td>\n",
              "      <td>2843.622065</td>\n",
              "    </tr>\n",
              "    <tr>\n",
              "      <th>599</th>\n",
              "      <td>201</td>\n",
              "      <td>3.780</td>\n",
              "      <td>6.169154</td>\n",
              "      <td>2884.182458</td>\n",
              "    </tr>\n",
              "    <tr>\n",
              "      <th>600</th>\n",
              "      <td>200</td>\n",
              "      <td>3.795</td>\n",
              "      <td>6.200000</td>\n",
              "      <td>2936.262072</td>\n",
              "    </tr>\n",
              "  </tbody>\n",
              "</table>\n",
              "<p>601 rows × 4 columns</p>\n",
              "</div>"
            ],
            "text/plain": [
              "      Wavelength (nm)    Abs   Energía        (ahv)\n",
              "0                 800  0.064  1.550000     0.052193\n",
              "1                 799  0.064  1.551940     0.052324\n",
              "2                 798  0.064  1.553885     0.052455\n",
              "3                 797  0.064  1.555834     0.052587\n",
              "4                 796  0.064  1.557789     0.052719\n",
              "..                ...    ...       ...          ...\n",
              "596               204  3.759  6.078431  2768.952864\n",
              "597               203  3.764  6.108374  2803.744276\n",
              "598               202  3.772  6.138614  2843.622065\n",
              "599               201  3.780  6.169154  2884.182458\n",
              "600               200  3.795  6.200000  2936.262072\n",
              "\n",
              "[601 rows x 4 columns]"
            ]
          },
          "metadata": {},
          "execution_count": 68
        }
      ]
    },
    {
      "cell_type": "code",
      "metadata": {
        "colab": {
          "base_uri": "https://localhost:8080/",
          "height": 423
        },
        "id": "IP6GtFF5gqvA",
        "outputId": "1cfd8762-cd68-4176-8ae0-d5dba7dfbd56"
      },
      "source": [
        "tabla2"
      ],
      "execution_count": 69,
      "outputs": [
        {
          "output_type": "execute_result",
          "data": {
            "text/html": [
              "<div>\n",
              "<style scoped>\n",
              "    .dataframe tbody tr th:only-of-type {\n",
              "        vertical-align: middle;\n",
              "    }\n",
              "\n",
              "    .dataframe tbody tr th {\n",
              "        vertical-align: top;\n",
              "    }\n",
              "\n",
              "    .dataframe thead th {\n",
              "        text-align: right;\n",
              "    }\n",
              "</style>\n",
              "<table border=\"1\" class=\"dataframe\">\n",
              "  <thead>\n",
              "    <tr style=\"text-align: right;\">\n",
              "      <th></th>\n",
              "      <th>Wavelength (nm)</th>\n",
              "      <th>Abs</th>\n",
              "      <th>Energía (eV)</th>\n",
              "      <th>(ahv)</th>\n",
              "    </tr>\n",
              "  </thead>\n",
              "  <tbody>\n",
              "    <tr>\n",
              "      <th>0</th>\n",
              "      <td>800</td>\n",
              "      <td>0.023</td>\n",
              "      <td>1.550000</td>\n",
              "      <td>0.006741</td>\n",
              "    </tr>\n",
              "    <tr>\n",
              "      <th>1</th>\n",
              "      <td>799</td>\n",
              "      <td>0.023</td>\n",
              "      <td>1.551940</td>\n",
              "      <td>0.006758</td>\n",
              "    </tr>\n",
              "    <tr>\n",
              "      <th>2</th>\n",
              "      <td>798</td>\n",
              "      <td>0.023</td>\n",
              "      <td>1.553885</td>\n",
              "      <td>0.006775</td>\n",
              "    </tr>\n",
              "    <tr>\n",
              "      <th>3</th>\n",
              "      <td>797</td>\n",
              "      <td>0.023</td>\n",
              "      <td>1.555834</td>\n",
              "      <td>0.006792</td>\n",
              "    </tr>\n",
              "    <tr>\n",
              "      <th>4</th>\n",
              "      <td>796</td>\n",
              "      <td>0.023</td>\n",
              "      <td>1.557789</td>\n",
              "      <td>0.006809</td>\n",
              "    </tr>\n",
              "    <tr>\n",
              "      <th>...</th>\n",
              "      <td>...</td>\n",
              "      <td>...</td>\n",
              "      <td>...</td>\n",
              "      <td>...</td>\n",
              "    </tr>\n",
              "    <tr>\n",
              "      <th>596</th>\n",
              "      <td>204</td>\n",
              "      <td>4.529</td>\n",
              "      <td>6.078431</td>\n",
              "      <td>4019.532576</td>\n",
              "    </tr>\n",
              "    <tr>\n",
              "      <th>597</th>\n",
              "      <td>203</td>\n",
              "      <td>4.530</td>\n",
              "      <td>6.108374</td>\n",
              "      <td>4061.024172</td>\n",
              "    </tr>\n",
              "    <tr>\n",
              "      <th>598</th>\n",
              "      <td>202</td>\n",
              "      <td>4.538</td>\n",
              "      <td>6.138614</td>\n",
              "      <td>4115.830588</td>\n",
              "    </tr>\n",
              "    <tr>\n",
              "      <th>599</th>\n",
              "      <td>201</td>\n",
              "      <td>4.544</td>\n",
              "      <td>6.169154</td>\n",
              "      <td>4167.885474</td>\n",
              "    </tr>\n",
              "    <tr>\n",
              "      <th>600</th>\n",
              "      <td>200</td>\n",
              "      <td>4.537</td>\n",
              "      <td>6.200000</td>\n",
              "      <td>4196.708586</td>\n",
              "    </tr>\n",
              "  </tbody>\n",
              "</table>\n",
              "<p>601 rows × 4 columns</p>\n",
              "</div>"
            ],
            "text/plain": [
              "      Wavelength (nm)    Abs  Energía (eV)        (ahv)\n",
              "0                 800  0.023      1.550000     0.006741\n",
              "1                 799  0.023      1.551940     0.006758\n",
              "2                 798  0.023      1.553885     0.006775\n",
              "3                 797  0.023      1.555834     0.006792\n",
              "4                 796  0.023      1.557789     0.006809\n",
              "..                ...    ...           ...          ...\n",
              "596               204  4.529      6.078431  4019.532576\n",
              "597               203  4.530      6.108374  4061.024172\n",
              "598               202  4.538      6.138614  4115.830588\n",
              "599               201  4.544      6.169154  4167.885474\n",
              "600               200  4.537      6.200000  4196.708586\n",
              "\n",
              "[601 rows x 4 columns]"
            ]
          },
          "metadata": {},
          "execution_count": 69
        }
      ]
    },
    {
      "cell_type": "code",
      "metadata": {
        "colab": {
          "base_uri": "https://localhost:8080/",
          "height": 423
        },
        "id": "pCHCXH4Gi3q4",
        "outputId": "9af8b744-7961-4f17-b844-6c01e1803256"
      },
      "source": [
        "tabla3"
      ],
      "execution_count": 70,
      "outputs": [
        {
          "output_type": "execute_result",
          "data": {
            "text/html": [
              "<div>\n",
              "<style scoped>\n",
              "    .dataframe tbody tr th:only-of-type {\n",
              "        vertical-align: middle;\n",
              "    }\n",
              "\n",
              "    .dataframe tbody tr th {\n",
              "        vertical-align: top;\n",
              "    }\n",
              "\n",
              "    .dataframe thead th {\n",
              "        text-align: right;\n",
              "    }\n",
              "</style>\n",
              "<table border=\"1\" class=\"dataframe\">\n",
              "  <thead>\n",
              "    <tr style=\"text-align: right;\">\n",
              "      <th></th>\n",
              "      <th>Wavelength (nm)</th>\n",
              "      <th>Abs</th>\n",
              "      <th>Energia</th>\n",
              "      <th>(ahv)</th>\n",
              "      <th>Unnamed: 4</th>\n",
              "      <th>Unnamed: 5</th>\n",
              "    </tr>\n",
              "  </thead>\n",
              "  <tbody>\n",
              "    <tr>\n",
              "      <th>0</th>\n",
              "      <td>800</td>\n",
              "      <td>0.081</td>\n",
              "      <td>1.550000</td>\n",
              "      <td>0.083603</td>\n",
              "      <td>NaN</td>\n",
              "      <td>NaN</td>\n",
              "    </tr>\n",
              "    <tr>\n",
              "      <th>1</th>\n",
              "      <td>799</td>\n",
              "      <td>0.082</td>\n",
              "      <td>1.551940</td>\n",
              "      <td>0.085895</td>\n",
              "      <td>NaN</td>\n",
              "      <td>NaN</td>\n",
              "    </tr>\n",
              "    <tr>\n",
              "      <th>2</th>\n",
              "      <td>798</td>\n",
              "      <td>0.082</td>\n",
              "      <td>1.553885</td>\n",
              "      <td>0.086110</td>\n",
              "      <td>NaN</td>\n",
              "      <td>NaN</td>\n",
              "    </tr>\n",
              "    <tr>\n",
              "      <th>3</th>\n",
              "      <td>797</td>\n",
              "      <td>0.081</td>\n",
              "      <td>1.555834</td>\n",
              "      <td>0.084233</td>\n",
              "      <td>NaN</td>\n",
              "      <td>NaN</td>\n",
              "    </tr>\n",
              "    <tr>\n",
              "      <th>4</th>\n",
              "      <td>796</td>\n",
              "      <td>0.082</td>\n",
              "      <td>1.557789</td>\n",
              "      <td>0.086543</td>\n",
              "      <td>NaN</td>\n",
              "      <td>NaN</td>\n",
              "    </tr>\n",
              "    <tr>\n",
              "      <th>...</th>\n",
              "      <td>...</td>\n",
              "      <td>...</td>\n",
              "      <td>...</td>\n",
              "      <td>...</td>\n",
              "      <td>...</td>\n",
              "      <td>...</td>\n",
              "    </tr>\n",
              "    <tr>\n",
              "      <th>596</th>\n",
              "      <td>204</td>\n",
              "      <td>4.804</td>\n",
              "      <td>6.078431</td>\n",
              "      <td>4522.482644</td>\n",
              "      <td>NaN</td>\n",
              "      <td>NaN</td>\n",
              "    </tr>\n",
              "    <tr>\n",
              "      <th>597</th>\n",
              "      <td>203</td>\n",
              "      <td>4.788</td>\n",
              "      <td>6.108374</td>\n",
              "      <td>4536.777223</td>\n",
              "      <td>NaN</td>\n",
              "      <td>NaN</td>\n",
              "    </tr>\n",
              "    <tr>\n",
              "      <th>598</th>\n",
              "      <td>202</td>\n",
              "      <td>4.791</td>\n",
              "      <td>6.138614</td>\n",
              "      <td>4587.550405</td>\n",
              "      <td>NaN</td>\n",
              "      <td>NaN</td>\n",
              "    </tr>\n",
              "    <tr>\n",
              "      <th>599</th>\n",
              "      <td>201</td>\n",
              "      <td>4.798</td>\n",
              "      <td>6.169154</td>\n",
              "      <td>4646.860325</td>\n",
              "      <td>NaN</td>\n",
              "      <td>NaN</td>\n",
              "    </tr>\n",
              "    <tr>\n",
              "      <th>600</th>\n",
              "      <td>200</td>\n",
              "      <td>4.803</td>\n",
              "      <td>6.200000</td>\n",
              "      <td>4703.232283</td>\n",
              "      <td>NaN</td>\n",
              "      <td>NaN</td>\n",
              "    </tr>\n",
              "  </tbody>\n",
              "</table>\n",
              "<p>601 rows × 6 columns</p>\n",
              "</div>"
            ],
            "text/plain": [
              "      Wavelength (nm)    Abs   Energia        (ahv) Unnamed: 4 Unnamed: 5\n",
              "0                 800  0.081  1.550000     0.083603        NaN        NaN\n",
              "1                 799  0.082  1.551940     0.085895        NaN        NaN\n",
              "2                 798  0.082  1.553885     0.086110        NaN        NaN\n",
              "3                 797  0.081  1.555834     0.084233        NaN        NaN\n",
              "4                 796  0.082  1.557789     0.086543        NaN        NaN\n",
              "..                ...    ...       ...          ...        ...        ...\n",
              "596               204  4.804  6.078431  4522.482644        NaN        NaN\n",
              "597               203  4.788  6.108374  4536.777223        NaN        NaN\n",
              "598               202  4.791  6.138614  4587.550405        NaN        NaN\n",
              "599               201  4.798  6.169154  4646.860325        NaN        NaN\n",
              "600               200  4.803  6.200000  4703.232283        NaN        NaN\n",
              "\n",
              "[601 rows x 6 columns]"
            ]
          },
          "metadata": {},
          "execution_count": 70
        }
      ]
    },
    {
      "cell_type": "code",
      "metadata": {
        "id": "NyMbOPajAlHM"
      },
      "source": [
        "x1 = tabla1.values[:,2]\n",
        "y1 = tabla1.values[:,3]"
      ],
      "execution_count": 71,
      "outputs": []
    },
    {
      "cell_type": "code",
      "metadata": {
        "id": "TR0-WrfjgwM5"
      },
      "source": [
        "x2 =tabla2.values[:,2]\n",
        "y2 = tabla2.values[:,3]"
      ],
      "execution_count": 72,
      "outputs": []
    },
    {
      "cell_type": "code",
      "metadata": {
        "id": "cdnI46l5i7vP"
      },
      "source": [
        "x3 = tabla3.values[:,2]\n",
        "y3 = tabla3.values[:,3]"
      ],
      "execution_count": 73,
      "outputs": []
    },
    {
      "cell_type": "code",
      "metadata": {
        "colab": {
          "base_uri": "https://localhost:8080/",
          "height": 649
        },
        "id": "ViCxxMctBBua",
        "outputId": "f0906076-63f5-4da0-9f41-ea0cac75ea86"
      },
      "source": [
        "plt.plot(x1, y1, '-')\n",
        "plt.legend()\n",
        "plt.rcParams[\"figure.figsize\"] = (15,10)\n",
        "plt.xlabel(\"Energía (eV)\", size = 16,)\n",
        "plt.ylabel(\"(αhv)²(eV (1/cm))²\", size = 16)\n",
        "plt.title(\"Tauc Plot M2-47\", fontdict={'family': 'serif', \n",
        "                    'color' : 'darkblue',\n",
        "                    'weight': 'bold',\n",
        "                    'size': 18})\n",
        "\n",
        "plt.grid(True)"
      ],
      "execution_count": 65,
      "outputs": [
        {
          "output_type": "stream",
          "name": "stderr",
          "text": [
            "No handles with labels found to put in legend.\n"
          ]
        },
        {
          "output_type": "display_data",
          "data": {
            "image/png": "[encoded data removed]",
            "text/plain": [
              "<Figure size 1080x720 with 1 Axes>"
            ]
          },
          "metadata": {
            "needs_background": "light"
          }
        }
      ]
    },
    {
      "cell_type": "code",
      "metadata": {
        "colab": {
          "base_uri": "https://localhost:8080/",
          "height": 649
        },
        "id": "9MCMBzLUhDkG",
        "outputId": "3a53b7c1-274b-4d7e-fd02-5e6c40213b28"
      },
      "source": [
        "plt.plot(x2, y2, '-')\n",
        "plt.legend()\n",
        "plt.rcParams[\"figure.figsize\"] = (15,10)\n",
        "plt.xlabel(\"Energía (eV)\", size = 16,)\n",
        "plt.ylabel(\"(αhv)²(eV (1/cm))²\", size = 16)\n",
        "plt.title(\"Tauc Plot M2-42\", fontdict={'family': 'serif', \n",
        "                    'color' : 'darkblue',\n",
        "                    'weight': 'bold',\n",
        "                    'size': 18})\n",
        "\n",
        "plt.grid(True)"
      ],
      "execution_count": 66,
      "outputs": [
        {
          "output_type": "stream",
          "name": "stderr",
          "text": [
            "No handles with labels found to put in legend.\n"
          ]
        },
        {
          "output_type": "display_data",
          "data": {
            "image/png": "[encoded data removed]",
            "text/plain": [
              "<Figure size 1080x720 with 1 Axes>"
            ]
          },
          "metadata": {
            "needs_background": "light"
          }
        }
      ]
    },
    {
      "cell_type": "code",
      "metadata": {
        "colab": {
          "base_uri": "https://localhost:8080/",
          "height": 649
        },
        "id": "Nc1-ZG-oi_x0",
        "outputId": "45a0a5a9-fb9a-4667-f7fe-942fda7c86bc"
      },
      "source": [
        "plt.plot(x3, y3, '-')\n",
        "plt.legend()\n",
        "plt.rcParams[\"figure.figsize\"] = (15,10)\n",
        "plt.xlabel(\"Energía (eV)\", size = 16,)\n",
        "plt.ylabel(\"(αhv)²(eV (1/cm))²\", size = 16)\n",
        "plt.title(\"Tauc Plot M2-22\", fontdict={'family': 'serif', \n",
        "                    'color' : 'darkblue',\n",
        "                    'weight': 'bold',\n",
        "                    'size': 18})\n",
        "\n",
        "plt.grid(True)"
      ],
      "execution_count": 75,
      "outputs": [
        {
          "output_type": "stream",
          "name": "stderr",
          "text": [
            "No handles with labels found to put in legend.\n"
          ]
        },
        {
          "output_type": "display_data",
          "data": {
            "image/png": "[encoded data removed]",
            "text/plain": [
              "<Figure size 1080x720 with 1 Axes>"
            ]
          },
          "metadata": {
            "needs_background": "light"
          }
        }
      ]
    }
  ]
}