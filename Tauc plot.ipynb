{
  "nbformat": 4,
  "nbformat_minor": 0,
  "metadata": {
    "colab": {
      "name": "Untitled",
      "provenance": [],
      "authorship_tag": "ABX9TyOnDezRhdzAzJQJ3lHn/HAZ",
      "include_colab_link": true
    },
    "kernelspec": {
      "name": "python3",
      "display_name": "Python 3"
    },
    "language_info": {
      "name": "python"
    }
  },
  "cells": [
    {
      "cell_type": "markdown",
      "metadata": {
        "id": "view-in-github",
        "colab_type": "text"
      },
      "source": [
        "<a href=\"https://colab.research.google.com/github/Manolonava1602/Curso-Phyton-Tarea-1/blob/main/Tauc%20plot.ipynb\" target=\"_parent\"><img src=\"https://colab.research.google.com/assets/colab-badge.svg\" alt=\"Open In Colab\"/></a>"
      ]
    },
    {
      "cell_type": "code",
      "metadata": {
        "id": "8UzakeCIAMiJ"
      },
      "source": [
        "# Impotamos las lbrerias necesarias\n",
        "import numpy as np\n",
        "import math as mt\n",
        "import matplotlib.pyplot as plt\n",
        "import pandas as pd\n",
        "import requests\n",
        "import os"
      ],
      "execution_count": 36,
      "outputs": []
    },
    {
      "cell_type": "code",
      "metadata": {
        "id": "AA6_1Mj_AOlA"
      },
      "source": [
        "#tauc plot\n",
        "path = f'/content/Tauc M2-47.csv'\n",
        "tabla1 = pd.read_csv(path, header=0)\n",
        "path2 = f'/content/Tauc M2-47.csv'\n",
        "tabla2 = pd.read_csv(path2, header=0)"
      ],
      "execution_count": 56,
      "outputs": []
    },
    {
      "cell_type": "code",
      "metadata": {
        "colab": {
          "base_uri": "https://localhost:8080/",
          "height": 423
        },
        "id": "ERcYRFccAZfD",
        "outputId": "ae980a0f-cf8d-4be5-a972-fc1019fe3e17"
      },
      "source": [
        "tabla1"
      ],
      "execution_count": 57,
      "outputs": [
        {
          "output_type": "execute_result",
          "data": {
            "text/html": [
              "<div>\n",
              "<style scoped>\n",
              "    .dataframe tbody tr th:only-of-type {\n",
              "        vertical-align: middle;\n",
              "    }\n",
              "\n",
              "    .dataframe tbody tr th {\n",
              "        vertical-align: top;\n",
              "    }\n",
              "\n",
              "    .dataframe thead th {\n",
              "        text-align: right;\n",
              "    }\n",
              "</style>\n",
              "<table border=\"1\" class=\"dataframe\">\n",
              "  <thead>\n",
              "    <tr style=\"text-align: right;\">\n",
              "      <th></th>\n",
              "      <th>Wavelength (nm)</th>\n",
              "      <th>Abs</th>\n",
              "      <th>Energía</th>\n",
              "      <th>(ahv)</th>\n",
              "    </tr>\n",
              "  </thead>\n",
              "  <tbody>\n",
              "    <tr>\n",
              "      <th>0</th>\n",
              "      <td>800</td>\n",
              "      <td>0.064</td>\n",
              "      <td>1.550000</td>\n",
              "      <td>0.052193</td>\n",
              "    </tr>\n",
              "    <tr>\n",
              "      <th>1</th>\n",
              "      <td>799</td>\n",
              "      <td>0.064</td>\n",
              "      <td>1.551940</td>\n",
              "      <td>0.052324</td>\n",
              "    </tr>\n",
              "    <tr>\n",
              "      <th>2</th>\n",
              "      <td>798</td>\n",
              "      <td>0.064</td>\n",
              "      <td>1.553885</td>\n",
              "      <td>0.052455</td>\n",
              "    </tr>\n",
              "    <tr>\n",
              "      <th>3</th>\n",
              "      <td>797</td>\n",
              "      <td>0.064</td>\n",
              "      <td>1.555834</td>\n",
              "      <td>0.052587</td>\n",
              "    </tr>\n",
              "    <tr>\n",
              "      <th>4</th>\n",
              "      <td>796</td>\n",
              "      <td>0.064</td>\n",
              "      <td>1.557789</td>\n",
              "      <td>0.052719</td>\n",
              "    </tr>\n",
              "    <tr>\n",
              "      <th>...</th>\n",
              "      <td>...</td>\n",
              "      <td>...</td>\n",
              "      <td>...</td>\n",
              "      <td>...</td>\n",
              "    </tr>\n",
              "    <tr>\n",
              "      <th>596</th>\n",
              "      <td>204</td>\n",
              "      <td>3.759</td>\n",
              "      <td>6.078431</td>\n",
              "      <td>2768.952864</td>\n",
              "    </tr>\n",
              "    <tr>\n",
              "      <th>597</th>\n",
              "      <td>203</td>\n",
              "      <td>3.764</td>\n",
              "      <td>6.108374</td>\n",
              "      <td>2803.744276</td>\n",
              "    </tr>\n",
              "    <tr>\n",
              "      <th>598</th>\n",
              "      <td>202</td>\n",
              "      <td>3.772</td>\n",
              "      <td>6.138614</td>\n",
              "      <td>2843.622065</td>\n",
              "    </tr>\n",
              "    <tr>\n",
              "      <th>599</th>\n",
              "      <td>201</td>\n",
              "      <td>3.780</td>\n",
              "      <td>6.169154</td>\n",
              "      <td>2884.182458</td>\n",
              "    </tr>\n",
              "    <tr>\n",
              "      <th>600</th>\n",
              "      <td>200</td>\n",
              "      <td>3.795</td>\n",
              "      <td>6.200000</td>\n",
              "      <td>2936.262072</td>\n",
              "    </tr>\n",
              "  </tbody>\n",
              "</table>\n",
              "<p>601 rows × 4 columns</p>\n",
              "</div>"
            ],
            "text/plain": [
              "      Wavelength (nm)    Abs   Energía        (ahv)\n",
              "0                 800  0.064  1.550000     0.052193\n",
              "1                 799  0.064  1.551940     0.052324\n",
              "2                 798  0.064  1.553885     0.052455\n",
              "3                 797  0.064  1.555834     0.052587\n",
              "4                 796  0.064  1.557789     0.052719\n",
              "..                ...    ...       ...          ...\n",
              "596               204  3.759  6.078431  2768.952864\n",
              "597               203  3.764  6.108374  2803.744276\n",
              "598               202  3.772  6.138614  2843.622065\n",
              "599               201  3.780  6.169154  2884.182458\n",
              "600               200  3.795  6.200000  2936.262072\n",
              "\n",
              "[601 rows x 4 columns]"
            ]
          },
          "metadata": {},
          "execution_count": 57
        }
      ]
    },
    {
      "cell_type": "code",
      "metadata": {
        "id": "NyMbOPajAlHM"
      },
      "source": [
        "x2 = tabla1.values[:,2]\n",
        "y2 = tabla1.values[:,3]\n"
      ],
      "execution_count": 58,
      "outputs": []
    },
    {
      "cell_type": "code",
      "metadata": {
        "colab": {
          "base_uri": "https://localhost:8080/",
          "height": 649
        },
        "id": "ViCxxMctBBua",
        "outputId": "f6d5d76d-129f-4780-e653-0a8a72de3f63"
      },
      "source": [
        "plt.plot(x2, y2, '-')\n",
        "plt.legend()\n",
        "plt.rcParams[\"figure.figsize\"] = (15,10)\n",
        "plt.xlabel(\"Energía (eV)\", size = 16,)\n",
        "plt.ylabel(\"(αhv)²(eV (1/cm))²\", size = 16)\n",
        "plt.title(\"Tauc Plot M2-47\", fontdict={'family': 'serif', \n",
        "                    'color' : 'darkblue',\n",
        "                    'weight': 'bold',\n",
        "                    'size': 18})\n",
        "\n",
        "plt.grid(True)"
      ],
      "execution_count": 60,
      "outputs": [
        {
          "output_type": "stream",
          "name": "stderr",
          "text": [
            "No handles with labels found to put in legend.\n"
          ]
        },
        {
          "output_type": "display_data",
          "data": {
            "image/png": "[encoded data removed]",
            "text/plain": [
              "<Figure size 1080x720 with 1 Axes>"
            ]
          },
          "metadata": {
            "needs_background": "light"
          }
        }
      ]
    }
  ]
}